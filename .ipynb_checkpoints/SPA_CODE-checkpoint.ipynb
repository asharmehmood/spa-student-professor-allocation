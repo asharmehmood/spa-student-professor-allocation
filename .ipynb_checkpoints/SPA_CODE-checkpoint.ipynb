{
 "cells": [
  {
   "cell_type": "code",
   "execution_count": 1,
   "metadata": {},
   "outputs": [
    {
     "name": "stdout",
     "output_type": "stream",
     "text": [
      "COVERED STUDENTS: 140\n",
      "LECTURERS-STUDENTS ALLOCATIONS:  {'l27': ['s17', 's58', 's86', 's102', 's122', 's123', 's125', 's132'], 'l12': ['s25', 's30', 's44', 's112'], 'l13': ['s10', 's19', 's63', 's79'], 'l21': ['s3', 's22', 's29', 's40'], 'l37': ['s11', 's83', 's95', 's109', 's62', 's16'], 'l14': ['s1', 's94', 's111', 's129'], 'l15': ['s31', 's34', 's42', 's69'], 'l25': ['s15', 's53', 's78', 's128'], 'l31': ['s18', 's24', 's75', 's107'], 'l40': ['s50', 's54', 's66', 's85'], 'l22': ['s47', 's65', 's77', 's90'], 'l6': ['s7', 's48', 's91', 's139'], 'l2': ['s55', 's103', 's120', 's121'], 'l9': ['s59', 's93', 's118', 's119'], 'l32': ['s46', 's104', 's74', 's76'], 'l3': ['s27', 's70', 's81', 's101'], 'l35': ['s45', 's134', 's4'], 'l23': ['s9', 's39', 's117', 's114'], 'l41': ['s2', 's13', 's20', 's89', 's110', 's140', 's113'], 'l19': ['s33', 's38', 's64', 's80', 's99', 's136'], 'l28': ['s6', 's26', 's87', 's37'], 'l1': ['s49', 's82', 's92', 's51'], 'l18': ['s32', 's96', 's127', 's115'], 'l39': ['s23', 's67', 's106'], 'l8': ['s28', 's126', 's137', 's21'], 'l7': ['s14', 's73', 's97'], 'l20': ['s41', 's131', 's116', 's135'], 'l36': ['s12', 's35', 's52'], 'l5': ['s5', 's60', 's100'], 'l38': ['s43', 's105', 's108'], 'l24': ['s56', 's57', 's84'], 'l33': ['s8', 's61', 's138', 's72'], 'l26': ['s88', 's98', 's130', 's124'], 'l11': ['s36', 's68', 's71', 's133']}\n"
     ]
    }
   ],
   "source": [
    "import copy\n",
    "\n",
    "############ DATASET MAKING #######################\n",
    "\n",
    "import random\n",
    "\n",
    "total_l_limit=0\n",
    "students=[]\n",
    "projects=[]\n",
    "lecturers=[]\n",
    "lecturers_offering={}\n",
    "project_lecturer={}\n",
    "lecturers_limit={}\n",
    "s_pref={}\n",
    "\n",
    "for n in range(140):\n",
    "    students.append('s'+str(n+1))\n",
    "    \n",
    "for n in range(41):\n",
    "    projects.append('p'+str(n+1))\n",
    "\n",
    "for n in range(41):\n",
    "    lecturers.append('l'+str(n+1))\n",
    "\n",
    "lcnt=0\n",
    "for l in lecturers:\n",
    "    lecturers_offering[l]=[projects[lcnt]]\n",
    "    lcnt+=1\n",
    "    \n",
    "pcnt=0\n",
    "for p in projects:\n",
    "    project_lecturer[p]=[lecturers[pcnt]]\n",
    "    pcnt+=1\n",
    "    \n",
    "for l in lecturers:\n",
    "    rnd = random.randint(0,1)\n",
    "    if rnd==0:\n",
    "        lecturers_limit[l]=4\n",
    "        total_l_limit+=4\n",
    "    if rnd==1:\n",
    "        lecturers_limit[l]=8\n",
    "        total_l_limit+=8\n",
    "\n",
    "backup_ll=copy.copy(lecturers_limit)\n",
    "for sd in students:\n",
    "    rnd1 = random.randint(1,41)\n",
    "    \n",
    "    rnd2 = copy.copy(rnd1)\n",
    "    while rnd2==rnd1:\n",
    "        rnd2 = random.randint(1,41)\n",
    "    \n",
    "    rnd3 = copy.copy(rnd2)\n",
    "    while rnd3==rnd2 or rnd3==rnd1:\n",
    "        rnd3 = random.randint(1,41)\n",
    "        \n",
    "    rnd4 = copy.copy(rnd3)\n",
    "    while rnd4==rnd3 or rnd4==rnd2 or rnd4==rnd1:\n",
    "        rnd4 = random.randint(1,41)\n",
    "    \n",
    "    s_pref[sd]=['p'+str(rnd1),'p'+str(rnd2),'p'+str(rnd3),'p'+str(rnd4)]\n",
    "\n",
    "###############################################################################\n",
    "\n",
    "############################ PROJECT SCORE/RANK CALCULATION #####################\n",
    "proj_score={}\n",
    "for stud in s_pref:\n",
    "    left_proj=copy.copy(projects)\n",
    "    for i,proj in enumerate(s_pref[stud]):\n",
    "        if proj not in proj_score:\n",
    "            proj_score[proj]=0\n",
    "        if proj in proj_score:\n",
    "            proj_score[proj]+=i+1\n",
    "            left_proj.remove(proj)\n",
    "    for project in left_proj:\n",
    "        if project not in proj_score:\n",
    "            proj_score[project]=0\n",
    "        proj_score[project]+=4\n",
    "proj_score_updated=sorted(proj_score.items(), key = lambda kv:(kv[1], kv[0]),reverse=False)\n",
    "# print(proj_score_updated)\n",
    "\n",
    "#################################################################################\n",
    "\n",
    "############################ ALLOCATING STUDENTS ACCORDING TO THEIR PREFERENCE ####################\n",
    "done_sd=[]\n",
    "left_sd=copy.copy(students)\n",
    "full_assign_info={}\n",
    "\n",
    "for i in range(4):\n",
    "    for ind,pscore in enumerate(proj_score_updated):\n",
    "        pop_proj=pscore[0]\n",
    "        pop_proj_stud=[]\n",
    "        pop_proj_lec=[]\n",
    "        for stud in s_pref:\n",
    "            if s_pref[stud][i]==pop_proj:\n",
    "                pop_proj_stud.append(stud)\n",
    "\n",
    "        for lec in lecturers_offering:\n",
    "            if pop_proj in lecturers_offering[lec]:\n",
    "                pop_proj_lec.append(lec)\n",
    "\n",
    "        for lec in pop_proj_lec:\n",
    "            cap=lecturers_limit[lec]\n",
    "            for sd in pop_proj_stud:\n",
    "                if (lecturers_limit[lec]>0) and (sd not in done_sd):\n",
    "                    full_assign_info[sd]=[lec,pop_proj]\n",
    "                    lecturers_limit[lec]-=1\n",
    "                    done_sd.append(sd)\n",
    "                    left_sd.remove(sd)\n",
    "                    \n",
    "####################################################################################################\n",
    "\n",
    "########################### FIND SPARE SEAT PROJECTS ###############################################\n",
    "                    \n",
    "spare_seat_projects={}\n",
    "for lect in lecturers_limit:\n",
    "    if lecturers_limit[lect]>0:\n",
    "        for proj in lecturers_offering[lect]:\n",
    "            spare_seat_projects[proj]=lect  \n",
    "# print(spare_seat_projects)\n",
    "\n",
    "####################################################################################################\n",
    "\n",
    "################ RE-ALLOCATION OF ALLOCATED STUDENTS AND ALLOCATION OF UNALLOCATED STUDENTS ###############\n",
    "\n",
    "temp_left_sd=copy.copy(left_sd)\n",
    "for everysd in temp_left_sd:\n",
    "    donesd=False\n",
    "    for everysd_pref in range(4):\n",
    "        for n in range(4):\n",
    "            for sd in s_pref:\n",
    "                if sd in full_assign_info:\n",
    "                    if s_pref[sd][n] in spare_seat_projects and full_assign_info[sd][1]==s_pref[everysd][everysd_pref] and sd not in left_sd and s_pref[sd][n]!=full_assign_info[sd][1]:\n",
    "                        assigned_lec=full_assign_info[sd][0]\n",
    "                        assigned_proj=full_assign_info[sd][1]\n",
    "                        full_assign_info[sd][0]=spare_seat_projects[s_pref[sd][n]]\n",
    "                        full_assign_info[sd][1]=s_pref[sd][n]\n",
    "                        full_assign_info[everysd]=[assigned_lec,assigned_proj]\n",
    "                        lecturers_limit[spare_seat_projects[s_pref[sd][n]]]-=1\n",
    "                        done_sd.append(everysd)\n",
    "                        left_sd.remove(everysd)\n",
    "                        if lecturers_limit[spare_seat_projects[s_pref[sd][n]]]==0:\n",
    "                            del spare_seat_projects[s_pref[sd][n]]\n",
    "                        donesd=True\n",
    "                        break\n",
    "            if donesd==True:\n",
    "                break\n",
    "        if donesd==True:\n",
    "            donesd=False\n",
    "            break  \n",
    "#print(full_assign_info)\n",
    "\n",
    "#########################################################################################################\n",
    "\n",
    "####################### MAKING INFO, WHICH STUDENTS ARE ALLOCATED TO WHICH LECTURER #####################\n",
    "\n",
    "stud_lec_assignment={}\n",
    "for assign in full_assign_info:\n",
    "    if full_assign_info[assign][0] not in stud_lec_assignment:\n",
    "        stud_lec_assignment[full_assign_info[assign][0]]=[]\n",
    "    stud_lec_assignment[full_assign_info[assign][0]].append(assign)\n",
    "# print(stud_lec_assignment)\n",
    "\n",
    "#########################################################################################################\n",
    "\n",
    "####################### DIVIDE INTO PERFECT,UNBALANCED AND SPARE SEAT GROUPS ############################\n",
    "\n",
    "unbalanced_group={}\n",
    "spare_seat_group={}\n",
    "stud_lec_assignment_temp=copy.copy(stud_lec_assignment)\n",
    "for l in stud_lec_assignment_temp:\n",
    "    if len(stud_lec_assignment[l])%3!=0 and len(stud_lec_assignment[l])%4!=0 and len(stud_lec_assignment[l])%4!=3:\n",
    "        unbalanced_group[l]=stud_lec_assignment[l]\n",
    "        del stud_lec_assignment[l]\n",
    "    elif len(stud_lec_assignment[l])%3==0 or len(stud_lec_assignment[l])%4==3:\n",
    "        spare_seat_group[l]=stud_lec_assignment[l]\n",
    "        del stud_lec_assignment[l]\n",
    "# print(len(stud_lec_assignment))  #perfect groups people\n",
    "# print(len(unbalanced_group))\n",
    "# print(len(spare_seat_group))\n",
    "\n",
    "#########################################################################################################\n",
    "\n",
    "############ DIVIDE UNBALANCED INTO GIVER,TAKER GROUP TO ADJUST THEMSELVES TO MAKE PERFECT GROUPS ############\n",
    "\n",
    "giver={}\n",
    "taker={}\n",
    "countd=0\n",
    "for lec in unbalanced_group:\n",
    "    if len(unbalanced_group[lec])==5 or len(unbalanced_group[lec])==1:\n",
    "        giver[lec]=unbalanced_group[lec]\n",
    "        countd+=1\n",
    "    if len(unbalanced_group[lec])==2:\n",
    "        taker[lec]=unbalanced_group[lec]\n",
    "        countd+=1       \n",
    "# print(giver)\n",
    "# print('\\n')\n",
    "# print(taker)\n",
    "\n",
    "############################################################################################################\n",
    "\n",
    "################## LOOP THROUGH GIVER TO ASSIGN STUDENTS TO TAKER, TO MAKE PERFECT GROUPS ##################\n",
    "\n",
    "groupdone=False\n",
    "givertemp=copy.copy(giver)\n",
    "takertemp=copy.copy(taker)\n",
    "donetaker=[]\n",
    "for lecg in givertemp:\n",
    "    groupdone=False\n",
    "    for stud in givertemp[lecg]:\n",
    "        for lect in takertemp:\n",
    "            if lecturers_offering[lect][0] in s_pref[stud] and lect not in donetaker:\n",
    "                donetaker.append(lect)\n",
    "                taker[lect].append(stud)\n",
    "                giver[lecg].remove(stud)\n",
    "                stud_lec_assignment[lect]=taker[lect]\n",
    "                stud_lec_assignment[lecg]=giver[lecg]\n",
    "                lecturers_limit[lecg]+=1\n",
    "                lecturers_limit[lect]-=1\n",
    "                del giver[lecg]\n",
    "                del taker[lect]\n",
    "                del unbalanced_group[lecg]\n",
    "                del unbalanced_group[lect]\n",
    "                groupdone=True\n",
    "                break\n",
    "        if groupdone==True:\n",
    "            groupdone=False\n",
    "            break\n",
    "        \n",
    "###########################################################################################################\n",
    "\n",
    "#################### MAKE SPARE SEAT META, TO FIND LIMITS OF EVERY SPARE SEAT GROUPS ######################\n",
    "\n",
    "spare_seat_group_meta={}\n",
    "for lec in spare_seat_group:\n",
    "    limit=lecturers_limit[lec]\n",
    "    if limit>0:\n",
    "        if limit==5:\n",
    "            spare_seat_group_meta[lecturers_offering[lec][0]]=1\n",
    "        else:\n",
    "            spare_seat_group_meta[lecturers_offering[lec][0]]=limit\n",
    "\n",
    "###########################################################################################################\n",
    "\n",
    "######################## FIND GROUPS FOR GIVER, TAKER STUDENTS IN SPARE SEAT GROUPS #######################\n",
    "\n",
    "groupdone2=False\n",
    "giverdone2=False\n",
    "takerdone2=False\n",
    "givertemp2=copy.copy(giver)\n",
    "takertemp2=copy.copy(taker)\n",
    "donetaker2=[]\n",
    "donegiver2=[]\n",
    "\n",
    "for lec in givertemp2:\n",
    "    for stud in givertemp2[lec]:\n",
    "        for proj in spare_seat_group_meta:\n",
    "            if proj in s_pref[stud] and spare_seat_group_meta[proj]>0:\n",
    "                spare_seat_group_meta[proj]-=1\n",
    "                proj_lecturer=project_lecturer[proj][0]\n",
    "                spare_seat_group[proj_lecturer].append(stud)\n",
    "                giver[lec].remove(stud)\n",
    "                if len(giver[lec])==0:\n",
    "                    del giver[lec]\n",
    "                elif len(giver[lec])==3 or len(giver[lec])==4 or len(giver[lec])==6 or len(giver[lec])==7 or len(giver[lec])==8:\n",
    "                    spare_seat_group[lec]=giver[lec]\n",
    "                    del giver[lec]\n",
    "                    giverdone2=True\n",
    "                break\n",
    "        if giverdone2==True:\n",
    "            giverdone2=False\n",
    "            break\n",
    "    \n",
    "for lec in takertemp2:\n",
    "    for stud in takertemp2[lec]:\n",
    "        for proj in spare_seat_group_meta:\n",
    "            if proj in s_pref[stud] and spare_seat_group_meta[proj]>0:\n",
    "                spare_seat_group_meta[proj]-=1\n",
    "                proj_lecturer=project_lecturer[proj][0]\n",
    "                spare_seat_group[proj_lecturer].append(stud)\n",
    "                taker[lec].remove(stud)\n",
    "                if len(taker[lec])==0:\n",
    "                    del taker[lec]\n",
    "                elif len(taker[lec])==3 or len(taker[lec])==4 or len(taker[lec])==6 or len(taker[lec])==7 or len(taker[lec])==8:\n",
    "                    spare_seat_group[lec]=taker[lec]\n",
    "                    del taker[lec]\n",
    "                    takerdone2=True\n",
    "                break\n",
    "        if takerdone2==True:\n",
    "            takerdone2=False\n",
    "            break\n",
    "# print(giver,'\\n')\n",
    "# print(taker,'\\n')\n",
    "\n",
    "############################################################################################################\n",
    "\n",
    "############################# MERGE PERFECT AND SPARE SEAT, MERGE GIVER AND TAKER ##########################\n",
    "\n",
    "temp_perfect_group={**stud_lec_assignment, **spare_seat_group}\n",
    "giver_taker_group={**giver, **taker}\n",
    "\n",
    "############################################################################################################\n",
    "\n",
    "##### FIND GROUPS IN PERFECT GROUPS FOR REST OF THE GIVER TAKER STUDENTS ACCORDING TO THEIR PREFERENCES #####\n",
    "\n",
    "err=[1,2,5]            \n",
    "\n",
    "left_stud_givertaker=[]\n",
    "for l in giver_taker_group:\n",
    "    for s in giver_taker_group[l]:\n",
    "        left_stud_givertaker.append(s)\n",
    "        \n",
    "ll_for_perfect_group={}\n",
    "ll_pgroup={}\n",
    "done_studs=[]\n",
    "for l in temp_perfect_group:\n",
    "    ll_for_perfect_group[l]=backup_ll[l]-len(temp_perfect_group[l])\n",
    "    if ll_for_perfect_group[l]==4:\n",
    "        ll_pgroup[l]=[2,3]\n",
    "    elif ll_for_perfect_group[l]==5:\n",
    "        ll_pgroup[l]=[1,1] \n",
    "    elif ll_for_perfect_group[l]==8:\n",
    "        ll_pgroup[l]=[3,4]\n",
    "    else:\n",
    "        ll_pgroup[l]=[ll_for_perfect_group[l],ll_for_perfect_group[l]]\n",
    "    \n",
    "    if ll_pgroup[l][0]<=len(left_stud_givertaker) and ll_pgroup[l][0]>0 and len(left_stud_givertaker)>0:\n",
    "        can_cover_upto=ll_pgroup[l][1]\n",
    "        stud_cnt=0\n",
    "        temp_lstud=[]\n",
    "        for s in left_stud_givertaker:\n",
    "            if lecturers_offering[l][0] in s_pref[s]:\n",
    "                temp_lstud.append(s)\n",
    "        if len(temp_lstud)>=ll_pgroup[l][0]:\n",
    "            for s in temp_lstud:\n",
    "                if stud_cnt<=can_cover_upto:\n",
    "                    temp_perfect_group[l].append(s)\n",
    "                    left_stud_givertaker.remove(s)\n",
    "                    stud_cnt+=1\n",
    "                    if stud_cnt==can_cover_upto:\n",
    "                        break\n",
    "                        \n",
    "#############################################################################################################\n",
    "\n",
    "### FIND GROUPS IN PERFECT GROUPS FOR REST OF THE GIVER TAKER (WITHOUT ANY PREFERENCE, ANY AVAILABLE SEAT) ###\n",
    "err=[1,2,5]\n",
    "                    \n",
    "for l in temp_perfect_group:\n",
    "    ll_for_perfect_group[l]=backup_ll[l]-len(temp_perfect_group[l])\n",
    "    if ll_for_perfect_group[l]==4 and len(temp_perfect_group[l])!=0:\n",
    "        ll_pgroup[l]=[2,4]\n",
    "    elif ll_for_perfect_group[l]==4 and len(temp_perfect_group[l])==0:\n",
    "        ll_pgroup[l]=[3,4]\n",
    "    elif ll_for_perfect_group[l]==5:\n",
    "        ll_pgroup[l]=[1,1] \n",
    "    elif ll_for_perfect_group[l]==8:\n",
    "        ll_pgroup[l]=[3,4]\n",
    "    else:\n",
    "        ll_pgroup[l]=[ll_for_perfect_group[l],ll_for_perfect_group[l]]\n",
    "        \n",
    "    if ll_pgroup[l][0]<=len(left_stud_givertaker) and ll_pgroup[l][0]>0 and len(left_stud_givertaker)>0:\n",
    "        can_cover_upto=ll_pgroup[l][1]\n",
    "        stud_cnt=0\n",
    "        templsgt=copy.copy(left_stud_givertaker)\n",
    "        for s in templsgt:\n",
    "            if stud_cnt<=can_cover_upto and s in left_stud_givertaker:\n",
    "                temp_perfect_group[l].append(s)\n",
    "                left_stud_givertaker.remove(s)\n",
    "                stud_cnt+=1\n",
    "                if stud_cnt==can_cover_upto:\n",
    "                    break\n",
    "    \n",
    "##########################################################################################################\n",
    "\n",
    "################# PRINT COVERED STUDENTS, AND ASSIGNED LECTURERS : TOTAL STUDENTS 140 #####################\n",
    "\n",
    "counts=0\n",
    "for l in temp_perfect_group:\n",
    "    for s in temp_perfect_group[l]:\n",
    "        counts+=1\n",
    "print('COVERED STUDENTS:',counts)\n",
    "print('LECTURERS-STUDENTS ALLOCATIONS: ',temp_perfect_group)\n",
    "\n",
    "###########################################################################################################"
   ]
  },
  {
   "cell_type": "code",
   "execution_count": 11,
   "metadata": {},
   "outputs": [
    {
     "name": "stdout",
     "output_type": "stream",
     "text": [
      "          pref freq\n",
      "0   First pref  119\n",
      "1  Second pref   10\n",
      "2   Third pref    7\n",
      "3  Fourth pref    1\n",
      "4   Fifth pref    3\n"
     ]
    },
    {
     "data": {
      "application/vnd.plotly.v1+json": {
       "config": {
        "plotlyServerURL": "https://plot.ly"
       },
       "data": [
        {
         "alignmentgroup": "True",
         "hovertemplate": "Preference=%{x}<br>Frequency=%{y}<extra></extra>",
         "legendgroup": "",
         "marker": {
          "color": "#636efa"
         },
         "name": "",
         "offsetgroup": "",
         "orientation": "v",
         "showlegend": false,
         "textposition": "auto",
         "type": "bar",
         "x": [
          "First pref",
          "Second pref",
          "Third pref",
          "Fourth pref",
          "Fifth pref"
         ],
         "xaxis": "x",
         "y": [
          119,
          10,
          7,
          1,
          3
         ],
         "yaxis": "y"
        }
       ],
       "layout": {
        "barmode": "relative",
        "height": 300,
        "legend": {
         "tracegroupgap": 0
        },
        "margin": {
         "t": 60
        },
        "template": {
         "data": {
          "bar": [
           {
            "error_x": {
             "color": "#2a3f5f"
            },
            "error_y": {
             "color": "#2a3f5f"
            },
            "marker": {
             "line": {
              "color": "#E5ECF6",
              "width": 0.5
             }
            },
            "type": "bar"
           }
          ],
          "barpolar": [
           {
            "marker": {
             "line": {
              "color": "#E5ECF6",
              "width": 0.5
             }
            },
            "type": "barpolar"
           }
          ],
          "carpet": [
           {
            "aaxis": {
             "endlinecolor": "#2a3f5f",
             "gridcolor": "white",
             "linecolor": "white",
             "minorgridcolor": "white",
             "startlinecolor": "#2a3f5f"
            },
            "baxis": {
             "endlinecolor": "#2a3f5f",
             "gridcolor": "white",
             "linecolor": "white",
             "minorgridcolor": "white",
             "startlinecolor": "#2a3f5f"
            },
            "type": "carpet"
           }
          ],
          "choropleth": [
           {
            "colorbar": {
             "outlinewidth": 0,
             "ticks": ""
            },
            "type": "choropleth"
           }
          ],
          "contour": [
           {
            "colorbar": {
             "outlinewidth": 0,
             "ticks": ""
            },
            "colorscale": [
             [
              0,
              "#0d0887"
             ],
             [
              0.1111111111111111,
              "#46039f"
             ],
             [
              0.2222222222222222,
              "#7201a8"
             ],
             [
              0.3333333333333333,
              "#9c179e"
             ],
             [
              0.4444444444444444,
              "#bd3786"
             ],
             [
              0.5555555555555556,
              "#d8576b"
             ],
             [
              0.6666666666666666,
              "#ed7953"
             ],
             [
              0.7777777777777778,
              "#fb9f3a"
             ],
             [
              0.8888888888888888,
              "#fdca26"
             ],
             [
              1,
              "#f0f921"
             ]
            ],
            "type": "contour"
           }
          ],
          "contourcarpet": [
           {
            "colorbar": {
             "outlinewidth": 0,
             "ticks": ""
            },
            "type": "contourcarpet"
           }
          ],
          "heatmap": [
           {
            "colorbar": {
             "outlinewidth": 0,
             "ticks": ""
            },
            "colorscale": [
             [
              0,
              "#0d0887"
             ],
             [
              0.1111111111111111,
              "#46039f"
             ],
             [
              0.2222222222222222,
              "#7201a8"
             ],
             [
              0.3333333333333333,
              "#9c179e"
             ],
             [
              0.4444444444444444,
              "#bd3786"
             ],
             [
              0.5555555555555556,
              "#d8576b"
             ],
             [
              0.6666666666666666,
              "#ed7953"
             ],
             [
              0.7777777777777778,
              "#fb9f3a"
             ],
             [
              0.8888888888888888,
              "#fdca26"
             ],
             [
              1,
              "#f0f921"
             ]
            ],
            "type": "heatmap"
           }
          ],
          "heatmapgl": [
           {
            "colorbar": {
             "outlinewidth": 0,
             "ticks": ""
            },
            "colorscale": [
             [
              0,
              "#0d0887"
             ],
             [
              0.1111111111111111,
              "#46039f"
             ],
             [
              0.2222222222222222,
              "#7201a8"
             ],
             [
              0.3333333333333333,
              "#9c179e"
             ],
             [
              0.4444444444444444,
              "#bd3786"
             ],
             [
              0.5555555555555556,
              "#d8576b"
             ],
             [
              0.6666666666666666,
              "#ed7953"
             ],
             [
              0.7777777777777778,
              "#fb9f3a"
             ],
             [
              0.8888888888888888,
              "#fdca26"
             ],
             [
              1,
              "#f0f921"
             ]
            ],
            "type": "heatmapgl"
           }
          ],
          "histogram": [
           {
            "marker": {
             "colorbar": {
              "outlinewidth": 0,
              "ticks": ""
             }
            },
            "type": "histogram"
           }
          ],
          "histogram2d": [
           {
            "colorbar": {
             "outlinewidth": 0,
             "ticks": ""
            },
            "colorscale": [
             [
              0,
              "#0d0887"
             ],
             [
              0.1111111111111111,
              "#46039f"
             ],
             [
              0.2222222222222222,
              "#7201a8"
             ],
             [
              0.3333333333333333,
              "#9c179e"
             ],
             [
              0.4444444444444444,
              "#bd3786"
             ],
             [
              0.5555555555555556,
              "#d8576b"
             ],
             [
              0.6666666666666666,
              "#ed7953"
             ],
             [
              0.7777777777777778,
              "#fb9f3a"
             ],
             [
              0.8888888888888888,
              "#fdca26"
             ],
             [
              1,
              "#f0f921"
             ]
            ],
            "type": "histogram2d"
           }
          ],
          "histogram2dcontour": [
           {
            "colorbar": {
             "outlinewidth": 0,
             "ticks": ""
            },
            "colorscale": [
             [
              0,
              "#0d0887"
             ],
             [
              0.1111111111111111,
              "#46039f"
             ],
             [
              0.2222222222222222,
              "#7201a8"
             ],
             [
              0.3333333333333333,
              "#9c179e"
             ],
             [
              0.4444444444444444,
              "#bd3786"
             ],
             [
              0.5555555555555556,
              "#d8576b"
             ],
             [
              0.6666666666666666,
              "#ed7953"
             ],
             [
              0.7777777777777778,
              "#fb9f3a"
             ],
             [
              0.8888888888888888,
              "#fdca26"
             ],
             [
              1,
              "#f0f921"
             ]
            ],
            "type": "histogram2dcontour"
           }
          ],
          "mesh3d": [
           {
            "colorbar": {
             "outlinewidth": 0,
             "ticks": ""
            },
            "type": "mesh3d"
           }
          ],
          "parcoords": [
           {
            "line": {
             "colorbar": {
              "outlinewidth": 0,
              "ticks": ""
             }
            },
            "type": "parcoords"
           }
          ],
          "pie": [
           {
            "automargin": true,
            "type": "pie"
           }
          ],
          "scatter": [
           {
            "marker": {
             "colorbar": {
              "outlinewidth": 0,
              "ticks": ""
             }
            },
            "type": "scatter"
           }
          ],
          "scatter3d": [
           {
            "line": {
             "colorbar": {
              "outlinewidth": 0,
              "ticks": ""
             }
            },
            "marker": {
             "colorbar": {
              "outlinewidth": 0,
              "ticks": ""
             }
            },
            "type": "scatter3d"
           }
          ],
          "scattercarpet": [
           {
            "marker": {
             "colorbar": {
              "outlinewidth": 0,
              "ticks": ""
             }
            },
            "type": "scattercarpet"
           }
          ],
          "scattergeo": [
           {
            "marker": {
             "colorbar": {
              "outlinewidth": 0,
              "ticks": ""
             }
            },
            "type": "scattergeo"
           }
          ],
          "scattergl": [
           {
            "marker": {
             "colorbar": {
              "outlinewidth": 0,
              "ticks": ""
             }
            },
            "type": "scattergl"
           }
          ],
          "scattermapbox": [
           {
            "marker": {
             "colorbar": {
              "outlinewidth": 0,
              "ticks": ""
             }
            },
            "type": "scattermapbox"
           }
          ],
          "scatterpolar": [
           {
            "marker": {
             "colorbar": {
              "outlinewidth": 0,
              "ticks": ""
             }
            },
            "type": "scatterpolar"
           }
          ],
          "scatterpolargl": [
           {
            "marker": {
             "colorbar": {
              "outlinewidth": 0,
              "ticks": ""
             }
            },
            "type": "scatterpolargl"
           }
          ],
          "scatterternary": [
           {
            "marker": {
             "colorbar": {
              "outlinewidth": 0,
              "ticks": ""
             }
            },
            "type": "scatterternary"
           }
          ],
          "surface": [
           {
            "colorbar": {
             "outlinewidth": 0,
             "ticks": ""
            },
            "colorscale": [
             [
              0,
              "#0d0887"
             ],
             [
              0.1111111111111111,
              "#46039f"
             ],
             [
              0.2222222222222222,
              "#7201a8"
             ],
             [
              0.3333333333333333,
              "#9c179e"
             ],
             [
              0.4444444444444444,
              "#bd3786"
             ],
             [
              0.5555555555555556,
              "#d8576b"
             ],
             [
              0.6666666666666666,
              "#ed7953"
             ],
             [
              0.7777777777777778,
              "#fb9f3a"
             ],
             [
              0.8888888888888888,
              "#fdca26"
             ],
             [
              1,
              "#f0f921"
             ]
            ],
            "type": "surface"
           }
          ],
          "table": [
           {
            "cells": {
             "fill": {
              "color": "#EBF0F8"
             },
             "line": {
              "color": "white"
             }
            },
            "header": {
             "fill": {
              "color": "#C8D4E3"
             },
             "line": {
              "color": "white"
             }
            },
            "type": "table"
           }
          ]
         },
         "layout": {
          "annotationdefaults": {
           "arrowcolor": "#2a3f5f",
           "arrowhead": 0,
           "arrowwidth": 1
          },
          "coloraxis": {
           "colorbar": {
            "outlinewidth": 0,
            "ticks": ""
           }
          },
          "colorscale": {
           "diverging": [
            [
             0,
             "#8e0152"
            ],
            [
             0.1,
             "#c51b7d"
            ],
            [
             0.2,
             "#de77ae"
            ],
            [
             0.3,
             "#f1b6da"
            ],
            [
             0.4,
             "#fde0ef"
            ],
            [
             0.5,
             "#f7f7f7"
            ],
            [
             0.6,
             "#e6f5d0"
            ],
            [
             0.7,
             "#b8e186"
            ],
            [
             0.8,
             "#7fbc41"
            ],
            [
             0.9,
             "#4d9221"
            ],
            [
             1,
             "#276419"
            ]
           ],
           "sequential": [
            [
             0,
             "#0d0887"
            ],
            [
             0.1111111111111111,
             "#46039f"
            ],
            [
             0.2222222222222222,
             "#7201a8"
            ],
            [
             0.3333333333333333,
             "#9c179e"
            ],
            [
             0.4444444444444444,
             "#bd3786"
            ],
            [
             0.5555555555555556,
             "#d8576b"
            ],
            [
             0.6666666666666666,
             "#ed7953"
            ],
            [
             0.7777777777777778,
             "#fb9f3a"
            ],
            [
             0.8888888888888888,
             "#fdca26"
            ],
            [
             1,
             "#f0f921"
            ]
           ],
           "sequentialminus": [
            [
             0,
             "#0d0887"
            ],
            [
             0.1111111111111111,
             "#46039f"
            ],
            [
             0.2222222222222222,
             "#7201a8"
            ],
            [
             0.3333333333333333,
             "#9c179e"
            ],
            [
             0.4444444444444444,
             "#bd3786"
            ],
            [
             0.5555555555555556,
             "#d8576b"
            ],
            [
             0.6666666666666666,
             "#ed7953"
            ],
            [
             0.7777777777777778,
             "#fb9f3a"
            ],
            [
             0.8888888888888888,
             "#fdca26"
            ],
            [
             1,
             "#f0f921"
            ]
           ]
          },
          "colorway": [
           "#636efa",
           "#EF553B",
           "#00cc96",
           "#ab63fa",
           "#FFA15A",
           "#19d3f3",
           "#FF6692",
           "#B6E880",
           "#FF97FF",
           "#FECB52"
          ],
          "font": {
           "color": "#2a3f5f"
          },
          "geo": {
           "bgcolor": "white",
           "lakecolor": "white",
           "landcolor": "#E5ECF6",
           "showlakes": true,
           "showland": true,
           "subunitcolor": "white"
          },
          "hoverlabel": {
           "align": "left"
          },
          "hovermode": "closest",
          "mapbox": {
           "style": "light"
          },
          "paper_bgcolor": "white",
          "plot_bgcolor": "#E5ECF6",
          "polar": {
           "angularaxis": {
            "gridcolor": "white",
            "linecolor": "white",
            "ticks": ""
           },
           "bgcolor": "#E5ECF6",
           "radialaxis": {
            "gridcolor": "white",
            "linecolor": "white",
            "ticks": ""
           }
          },
          "scene": {
           "xaxis": {
            "backgroundcolor": "#E5ECF6",
            "gridcolor": "white",
            "gridwidth": 2,
            "linecolor": "white",
            "showbackground": true,
            "ticks": "",
            "zerolinecolor": "white"
           },
           "yaxis": {
            "backgroundcolor": "#E5ECF6",
            "gridcolor": "white",
            "gridwidth": 2,
            "linecolor": "white",
            "showbackground": true,
            "ticks": "",
            "zerolinecolor": "white"
           },
           "zaxis": {
            "backgroundcolor": "#E5ECF6",
            "gridcolor": "white",
            "gridwidth": 2,
            "linecolor": "white",
            "showbackground": true,
            "ticks": "",
            "zerolinecolor": "white"
           }
          },
          "shapedefaults": {
           "line": {
            "color": "#2a3f5f"
           }
          },
          "ternary": {
           "aaxis": {
            "gridcolor": "white",
            "linecolor": "white",
            "ticks": ""
           },
           "baxis": {
            "gridcolor": "white",
            "linecolor": "white",
            "ticks": ""
           },
           "bgcolor": "#E5ECF6",
           "caxis": {
            "gridcolor": "white",
            "linecolor": "white",
            "ticks": ""
           }
          },
          "title": {
           "x": 0.05
          },
          "xaxis": {
           "automargin": true,
           "gridcolor": "white",
           "linecolor": "white",
           "ticks": "",
           "title": {
            "standoff": 15
           },
           "zerolinecolor": "white",
           "zerolinewidth": 2
          },
          "yaxis": {
           "automargin": true,
           "gridcolor": "white",
           "linecolor": "white",
           "ticks": "",
           "title": {
            "standoff": 15
           },
           "zerolinecolor": "white",
           "zerolinewidth": 2
          }
         }
        },
        "width": 500,
        "xaxis": {
         "anchor": "y",
         "domain": [
          0,
          1
         ],
         "dtick": 1,
         "title": {
          "text": "Preference"
         }
        },
        "yaxis": {
         "anchor": "x",
         "domain": [
          0,
          1
         ],
         "title": {
          "text": "Frequency"
         }
        }
       }
      },
      "text/html": [
       "<div>\n",
       "        \n",
       "        \n",
       "            <div id=\"8a21d05a-950a-4c73-be37-9a2ae05dc283\" class=\"plotly-graph-div\" style=\"height:300px; width:500px;\"></div>\n",
       "            <script type=\"text/javascript\">\n",
       "                require([\"plotly\"], function(Plotly) {\n",
       "                    window.PLOTLYENV=window.PLOTLYENV || {};\n",
       "                    \n",
       "                if (document.getElementById(\"8a21d05a-950a-4c73-be37-9a2ae05dc283\")) {\n",
       "                    Plotly.newPlot(\n",
       "                        '8a21d05a-950a-4c73-be37-9a2ae05dc283',\n",
       "                        [{\"alignmentgroup\": \"True\", \"hovertemplate\": \"Preference=%{x}<br>Frequency=%{y}<extra></extra>\", \"legendgroup\": \"\", \"marker\": {\"color\": \"#636efa\"}, \"name\": \"\", \"offsetgroup\": \"\", \"orientation\": \"v\", \"showlegend\": false, \"textposition\": \"auto\", \"type\": \"bar\", \"x\": [\"First pref\", \"Second pref\", \"Third pref\", \"Fourth pref\", \"Fifth pref\"], \"xaxis\": \"x\", \"y\": [119, 10, 7, 1, 3], \"yaxis\": \"y\"}],\n",
       "                        {\"barmode\": \"relative\", \"height\": 300, \"legend\": {\"tracegroupgap\": 0}, \"margin\": {\"t\": 60}, \"template\": {\"data\": {\"bar\": [{\"error_x\": {\"color\": \"#2a3f5f\"}, \"error_y\": {\"color\": \"#2a3f5f\"}, \"marker\": {\"line\": {\"color\": \"#E5ECF6\", \"width\": 0.5}}, \"type\": \"bar\"}], \"barpolar\": [{\"marker\": {\"line\": {\"color\": \"#E5ECF6\", \"width\": 0.5}}, \"type\": \"barpolar\"}], \"carpet\": [{\"aaxis\": {\"endlinecolor\": \"#2a3f5f\", \"gridcolor\": \"white\", \"linecolor\": \"white\", \"minorgridcolor\": \"white\", \"startlinecolor\": \"#2a3f5f\"}, \"baxis\": {\"endlinecolor\": \"#2a3f5f\", \"gridcolor\": \"white\", \"linecolor\": \"white\", \"minorgridcolor\": \"white\", \"startlinecolor\": \"#2a3f5f\"}, \"type\": \"carpet\"}], \"choropleth\": [{\"colorbar\": {\"outlinewidth\": 0, \"ticks\": \"\"}, \"type\": \"choropleth\"}], \"contour\": [{\"colorbar\": {\"outlinewidth\": 0, \"ticks\": \"\"}, \"colorscale\": [[0.0, \"#0d0887\"], [0.1111111111111111, \"#46039f\"], [0.2222222222222222, \"#7201a8\"], [0.3333333333333333, \"#9c179e\"], [0.4444444444444444, \"#bd3786\"], [0.5555555555555556, \"#d8576b\"], [0.6666666666666666, \"#ed7953\"], [0.7777777777777778, \"#fb9f3a\"], [0.8888888888888888, \"#fdca26\"], [1.0, \"#f0f921\"]], \"type\": \"contour\"}], \"contourcarpet\": [{\"colorbar\": {\"outlinewidth\": 0, \"ticks\": \"\"}, \"type\": \"contourcarpet\"}], \"heatmap\": [{\"colorbar\": {\"outlinewidth\": 0, \"ticks\": \"\"}, \"colorscale\": [[0.0, \"#0d0887\"], [0.1111111111111111, \"#46039f\"], [0.2222222222222222, \"#7201a8\"], [0.3333333333333333, \"#9c179e\"], [0.4444444444444444, \"#bd3786\"], [0.5555555555555556, \"#d8576b\"], [0.6666666666666666, \"#ed7953\"], [0.7777777777777778, \"#fb9f3a\"], [0.8888888888888888, \"#fdca26\"], [1.0, \"#f0f921\"]], \"type\": \"heatmap\"}], \"heatmapgl\": [{\"colorbar\": {\"outlinewidth\": 0, \"ticks\": \"\"}, \"colorscale\": [[0.0, \"#0d0887\"], [0.1111111111111111, \"#46039f\"], [0.2222222222222222, \"#7201a8\"], [0.3333333333333333, \"#9c179e\"], [0.4444444444444444, \"#bd3786\"], [0.5555555555555556, \"#d8576b\"], [0.6666666666666666, \"#ed7953\"], [0.7777777777777778, \"#fb9f3a\"], [0.8888888888888888, \"#fdca26\"], [1.0, \"#f0f921\"]], \"type\": \"heatmapgl\"}], \"histogram\": [{\"marker\": {\"colorbar\": {\"outlinewidth\": 0, \"ticks\": \"\"}}, \"type\": \"histogram\"}], \"histogram2d\": [{\"colorbar\": {\"outlinewidth\": 0, \"ticks\": \"\"}, \"colorscale\": [[0.0, \"#0d0887\"], [0.1111111111111111, \"#46039f\"], [0.2222222222222222, \"#7201a8\"], [0.3333333333333333, \"#9c179e\"], [0.4444444444444444, \"#bd3786\"], [0.5555555555555556, \"#d8576b\"], [0.6666666666666666, \"#ed7953\"], [0.7777777777777778, \"#fb9f3a\"], [0.8888888888888888, \"#fdca26\"], [1.0, \"#f0f921\"]], \"type\": \"histogram2d\"}], \"histogram2dcontour\": [{\"colorbar\": {\"outlinewidth\": 0, \"ticks\": \"\"}, \"colorscale\": [[0.0, \"#0d0887\"], [0.1111111111111111, \"#46039f\"], [0.2222222222222222, \"#7201a8\"], [0.3333333333333333, \"#9c179e\"], [0.4444444444444444, \"#bd3786\"], [0.5555555555555556, \"#d8576b\"], [0.6666666666666666, \"#ed7953\"], [0.7777777777777778, \"#fb9f3a\"], [0.8888888888888888, \"#fdca26\"], [1.0, \"#f0f921\"]], \"type\": \"histogram2dcontour\"}], \"mesh3d\": [{\"colorbar\": {\"outlinewidth\": 0, \"ticks\": \"\"}, \"type\": \"mesh3d\"}], \"parcoords\": [{\"line\": {\"colorbar\": {\"outlinewidth\": 0, \"ticks\": \"\"}}, \"type\": \"parcoords\"}], \"pie\": [{\"automargin\": true, \"type\": \"pie\"}], \"scatter\": [{\"marker\": {\"colorbar\": {\"outlinewidth\": 0, \"ticks\": \"\"}}, \"type\": \"scatter\"}], \"scatter3d\": [{\"line\": {\"colorbar\": {\"outlinewidth\": 0, \"ticks\": \"\"}}, \"marker\": {\"colorbar\": {\"outlinewidth\": 0, \"ticks\": \"\"}}, \"type\": \"scatter3d\"}], \"scattercarpet\": [{\"marker\": {\"colorbar\": {\"outlinewidth\": 0, \"ticks\": \"\"}}, \"type\": \"scattercarpet\"}], \"scattergeo\": [{\"marker\": {\"colorbar\": {\"outlinewidth\": 0, \"ticks\": \"\"}}, \"type\": \"scattergeo\"}], \"scattergl\": [{\"marker\": {\"colorbar\": {\"outlinewidth\": 0, \"ticks\": \"\"}}, \"type\": \"scattergl\"}], \"scattermapbox\": [{\"marker\": {\"colorbar\": {\"outlinewidth\": 0, \"ticks\": \"\"}}, \"type\": \"scattermapbox\"}], \"scatterpolar\": [{\"marker\": {\"colorbar\": {\"outlinewidth\": 0, \"ticks\": \"\"}}, \"type\": \"scatterpolar\"}], \"scatterpolargl\": [{\"marker\": {\"colorbar\": {\"outlinewidth\": 0, \"ticks\": \"\"}}, \"type\": \"scatterpolargl\"}], \"scatterternary\": [{\"marker\": {\"colorbar\": {\"outlinewidth\": 0, \"ticks\": \"\"}}, \"type\": \"scatterternary\"}], \"surface\": [{\"colorbar\": {\"outlinewidth\": 0, \"ticks\": \"\"}, \"colorscale\": [[0.0, \"#0d0887\"], [0.1111111111111111, \"#46039f\"], [0.2222222222222222, \"#7201a8\"], [0.3333333333333333, \"#9c179e\"], [0.4444444444444444, \"#bd3786\"], [0.5555555555555556, \"#d8576b\"], [0.6666666666666666, \"#ed7953\"], [0.7777777777777778, \"#fb9f3a\"], [0.8888888888888888, \"#fdca26\"], [1.0, \"#f0f921\"]], \"type\": \"surface\"}], \"table\": [{\"cells\": {\"fill\": {\"color\": \"#EBF0F8\"}, \"line\": {\"color\": \"white\"}}, \"header\": {\"fill\": {\"color\": \"#C8D4E3\"}, \"line\": {\"color\": \"white\"}}, \"type\": \"table\"}]}, \"layout\": {\"annotationdefaults\": {\"arrowcolor\": \"#2a3f5f\", \"arrowhead\": 0, \"arrowwidth\": 1}, \"coloraxis\": {\"colorbar\": {\"outlinewidth\": 0, \"ticks\": \"\"}}, \"colorscale\": {\"diverging\": [[0, \"#8e0152\"], [0.1, \"#c51b7d\"], [0.2, \"#de77ae\"], [0.3, \"#f1b6da\"], [0.4, \"#fde0ef\"], [0.5, \"#f7f7f7\"], [0.6, \"#e6f5d0\"], [0.7, \"#b8e186\"], [0.8, \"#7fbc41\"], [0.9, \"#4d9221\"], [1, \"#276419\"]], \"sequential\": [[0.0, \"#0d0887\"], [0.1111111111111111, \"#46039f\"], [0.2222222222222222, \"#7201a8\"], [0.3333333333333333, \"#9c179e\"], [0.4444444444444444, \"#bd3786\"], [0.5555555555555556, \"#d8576b\"], [0.6666666666666666, \"#ed7953\"], [0.7777777777777778, \"#fb9f3a\"], [0.8888888888888888, \"#fdca26\"], [1.0, \"#f0f921\"]], \"sequentialminus\": [[0.0, \"#0d0887\"], [0.1111111111111111, \"#46039f\"], [0.2222222222222222, \"#7201a8\"], [0.3333333333333333, \"#9c179e\"], [0.4444444444444444, \"#bd3786\"], [0.5555555555555556, \"#d8576b\"], [0.6666666666666666, \"#ed7953\"], [0.7777777777777778, \"#fb9f3a\"], [0.8888888888888888, \"#fdca26\"], [1.0, \"#f0f921\"]]}, \"colorway\": [\"#636efa\", \"#EF553B\", \"#00cc96\", \"#ab63fa\", \"#FFA15A\", \"#19d3f3\", \"#FF6692\", \"#B6E880\", \"#FF97FF\", \"#FECB52\"], \"font\": {\"color\": \"#2a3f5f\"}, \"geo\": {\"bgcolor\": \"white\", \"lakecolor\": \"white\", \"landcolor\": \"#E5ECF6\", \"showlakes\": true, \"showland\": true, \"subunitcolor\": \"white\"}, \"hoverlabel\": {\"align\": \"left\"}, \"hovermode\": \"closest\", \"mapbox\": {\"style\": \"light\"}, \"paper_bgcolor\": \"white\", \"plot_bgcolor\": \"#E5ECF6\", \"polar\": {\"angularaxis\": {\"gridcolor\": \"white\", \"linecolor\": \"white\", \"ticks\": \"\"}, \"bgcolor\": \"#E5ECF6\", \"radialaxis\": {\"gridcolor\": \"white\", \"linecolor\": \"white\", \"ticks\": \"\"}}, \"scene\": {\"xaxis\": {\"backgroundcolor\": \"#E5ECF6\", \"gridcolor\": \"white\", \"gridwidth\": 2, \"linecolor\": \"white\", \"showbackground\": true, \"ticks\": \"\", \"zerolinecolor\": \"white\"}, \"yaxis\": {\"backgroundcolor\": \"#E5ECF6\", \"gridcolor\": \"white\", \"gridwidth\": 2, \"linecolor\": \"white\", \"showbackground\": true, \"ticks\": \"\", \"zerolinecolor\": \"white\"}, \"zaxis\": {\"backgroundcolor\": \"#E5ECF6\", \"gridcolor\": \"white\", \"gridwidth\": 2, \"linecolor\": \"white\", \"showbackground\": true, \"ticks\": \"\", \"zerolinecolor\": \"white\"}}, \"shapedefaults\": {\"line\": {\"color\": \"#2a3f5f\"}}, \"ternary\": {\"aaxis\": {\"gridcolor\": \"white\", \"linecolor\": \"white\", \"ticks\": \"\"}, \"baxis\": {\"gridcolor\": \"white\", \"linecolor\": \"white\", \"ticks\": \"\"}, \"bgcolor\": \"#E5ECF6\", \"caxis\": {\"gridcolor\": \"white\", \"linecolor\": \"white\", \"ticks\": \"\"}}, \"title\": {\"x\": 0.05}, \"xaxis\": {\"automargin\": true, \"gridcolor\": \"white\", \"linecolor\": \"white\", \"ticks\": \"\", \"title\": {\"standoff\": 15}, \"zerolinecolor\": \"white\", \"zerolinewidth\": 2}, \"yaxis\": {\"automargin\": true, \"gridcolor\": \"white\", \"linecolor\": \"white\", \"ticks\": \"\", \"title\": {\"standoff\": 15}, \"zerolinecolor\": \"white\", \"zerolinewidth\": 2}}}, \"width\": 500, \"xaxis\": {\"anchor\": \"y\", \"domain\": [0.0, 1.0], \"dtick\": 1, \"title\": {\"text\": \"Preference\"}}, \"yaxis\": {\"anchor\": \"x\", \"domain\": [0.0, 1.0], \"title\": {\"text\": \"Frequency\"}}},\n",
       "                        {\"responsive\": true}\n",
       "                    ).then(function(){\n",
       "                            \n",
       "var gd = document.getElementById('8a21d05a-950a-4c73-be37-9a2ae05dc283');\n",
       "var x = new MutationObserver(function (mutations, observer) {{\n",
       "        var display = window.getComputedStyle(gd).display;\n",
       "        if (!display || display === 'none') {{\n",
       "            console.log([gd, 'removed!']);\n",
       "            Plotly.purge(gd);\n",
       "            observer.disconnect();\n",
       "        }}\n",
       "}});\n",
       "\n",
       "// Listen for the removal of the full notebook cells\n",
       "var notebookContainer = gd.closest('#notebook-container');\n",
       "if (notebookContainer) {{\n",
       "    x.observe(notebookContainer, {childList: true});\n",
       "}}\n",
       "\n",
       "// Listen for the clearing of the current output cell\n",
       "var outputEl = gd.closest('.output');\n",
       "if (outputEl) {{\n",
       "    x.observe(outputEl, {childList: true});\n",
       "}}\n",
       "\n",
       "                        })\n",
       "                };\n",
       "                });\n",
       "            </script>\n",
       "        </div>"
      ]
     },
     "metadata": {},
     "output_type": "display_data"
    }
   ],
   "source": [
    "####################### TO EVALUATE ALGORITHM, PREFERENCE DETAILS AND GRAPH ######################\n",
    "\n",
    "import pandas as pd\n",
    "import plotly.express as px\n",
    "\n",
    "def findrank(stud,proj):\n",
    "    cnt=0\n",
    "    for projects in s_pref[stud]:\n",
    "        cnt+=1\n",
    "        if projects==proj:\n",
    "            return cnt\n",
    "    return 5\n",
    "    \n",
    "pref_df=pd.DataFrame(columns=['pref','freq'])\n",
    "first=0\n",
    "second=0\n",
    "third=0\n",
    "fourth=0\n",
    "fifth=0\n",
    "rank_score=0\n",
    "for l in temp_perfect_group:\n",
    "    for sd in temp_perfect_group[l]:\n",
    "        rank=findrank(sd,lecturers_offering[l][0])\n",
    "        if rank==1:\n",
    "            first+=1\n",
    "        elif rank==2:\n",
    "            second+=1\n",
    "        elif rank==3:\n",
    "            third+=1\n",
    "        elif rank==4:\n",
    "            fourth+=1\n",
    "        elif rank==5:\n",
    "            fifth+=1\n",
    "\n",
    "        rank_score+=rank\n",
    "\n",
    "pref_df.loc[len(pref_df)]=['First pref',first]\n",
    "pref_df.loc[len(pref_df)]=['Second pref',second]\n",
    "pref_df.loc[len(pref_df)]=['Third pref',third]\n",
    "pref_df.loc[len(pref_df)]=['Fourth pref',fourth]\n",
    "pref_df.loc[len(pref_df)]=['Fifth pref',fifth]\n",
    "\n",
    "print(pref_df)\n",
    "fig = px.bar(pref_df, x='pref', y='freq',labels={\n",
    "                     \"pref\": \"Preference\",\n",
    "                     \"freq\": \"Frequency\"},height=300, width=500)\n",
    "fig.update_xaxes(dtick=1)\n",
    "fig.show()\n",
    "fig.write_image(\"./pref_result.jpeg\", scale=1)\n",
    "\n",
    "############################################################################################################"
   ]
  },
  {
   "cell_type": "code",
   "execution_count": null,
   "metadata": {},
   "outputs": [],
   "source": []
  }
 ],
 "metadata": {
  "kernelspec": {
   "display_name": "Python 3",
   "language": "python",
   "name": "python3"
  },
  "language_info": {
   "codemirror_mode": {
    "name": "ipython",
    "version": 3
   },
   "file_extension": ".py",
   "mimetype": "text/x-python",
   "name": "python",
   "nbconvert_exporter": "python",
   "pygments_lexer": "ipython3",
   "version": "3.6.9"
  }
 },
 "nbformat": 4,
 "nbformat_minor": 4
}
